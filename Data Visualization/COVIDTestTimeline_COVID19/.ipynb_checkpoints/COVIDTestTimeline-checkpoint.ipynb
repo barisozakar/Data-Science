{
 "cells": [
  {
   "cell_type": "code",
   "execution_count": 1,
   "metadata": {},
   "outputs": [],
   "source": [
    "import pandas as pd \n",
    "import numpy as np\n",
    "import bokeh.palettes as bp\n",
    "from bokeh.plotting import figure\n",
    "from bokeh.io import output_file, show, save\n",
    "from bokeh.models import ColumnDataSource, HoverTool, ColorBar, RangeTool\n",
    "from bokeh.transform import linear_cmap\n",
    "from bokeh.layouts import gridplot\n",
    "\n",
    "\n",
    "# ==========================================================================\n",
    "# Goal: Visualize Covid-19 Tests statistics in Switzerland with linked plots\n",
    "# Dataset: covid19_tests_switzerland_bag.csv\n",
    "# Data Interpretation: \n",
    "# \t\tn_negative: number of negative cases in tests\n",
    "# \t\tn_positive: number of positive cases in tests\n",
    "# \t\tn_tests: number of total tests\n",
    "# \t\tfrac_negative: fraction of POSITIVE cases in tests\n",
    "# =========================================================================="
   ]
  },
  {
   "cell_type": "code",
   "execution_count": 2,
   "metadata": {},
   "outputs": [],
   "source": [
    "### Task1: Data Preprocessing\n",
    "\n",
    "\n",
    "## T1.1 Read the data to the dataframe \"raw\"\n",
    "# You can read the latest data from the url, or use the data provided in the folder (update Nov.3, 2020)\n",
    "\n",
    "#the original data from the link has an error, the last column should be\n",
    "#frac_positive rather than frac_negative, the provided data has already correct it.)\n",
    "url = 'https://raw.githubusercontent.com/daenuprobst/covid19-cases-switzerland/master/covid19_tests_switzerland_bag.csv'\n",
    "raw = pd.read_csv(url, index_col=\"date\").drop(columns=\"Unnamed: 0\").rename(columns = {'frac_negative': 'frac_positive'})"
   ]
  },
  {
   "cell_type": "code",
   "execution_count": 3,
   "metadata": {},
   "outputs": [],
   "source": [
    "## T1.2 Create a ColumnDataSource containing: date, positive number, positive rate, total tests\n",
    "# All the data can be extracted from the raw dataframe.\n",
    "\n",
    "date = pd.to_datetime(raw.index.tolist())\n",
    "pos_num = raw[\"n_positive\"].tolist()\n",
    "pos_rate = raw[\"frac_positive\"].tolist()\n",
    "test_num = raw[\"n_tests\"].tolist()\n",
    "\n",
    "source = ColumnDataSource(data=dict(\n",
    "    date=date,\n",
    "    pos_num=pos_num,\n",
    "    test_num=test_num,\n",
    "    pos_rate=pos_rate))"
   ]
  },
  {
   "cell_type": "code",
   "execution_count": 4,
   "metadata": {},
   "outputs": [],
   "source": [
    "## T1.3 Map the range of positive rate to a colormap using module \"linear_cmap\"\n",
    "# \"low\" should be the minimum value of positive rates, and \"high\" should be the maximum value\n",
    "\n",
    "mapper = linear_cmap(\"pos_rate\", palette=bp.Magma256, low=min(pos_rate), high=max(pos_rate))"
   ]
  },
  {
   "cell_type": "code",
   "execution_count": 5,
   "metadata": {},
   "outputs": [
    {
     "data": {
      "text/html": [
       "<div style=\"display: table;\"><div style=\"display: table-row;\"><div style=\"display: table-cell;\"><b title=\"bokeh.models.renderers.GlyphRenderer\">GlyphRenderer</b>(</div><div style=\"display: table-cell;\">id&nbsp;=&nbsp;'1026', <span id=\"1029\" style=\"cursor: pointer;\">&hellip;)</span></div></div><div class=\"1028\" style=\"display: none;\"><div style=\"display: table-cell;\"></div><div style=\"display: table-cell;\">data_source&nbsp;=&nbsp;ColumnDataSource(id='1001', ...),</div></div><div class=\"1028\" style=\"display: none;\"><div style=\"display: table-cell;\"></div><div style=\"display: table-cell;\">glyph&nbsp;=&nbsp;Scatter(id='1024', ...),</div></div><div class=\"1028\" style=\"display: none;\"><div style=\"display: table-cell;\"></div><div style=\"display: table-cell;\">hover_glyph&nbsp;=&nbsp;None,</div></div><div class=\"1028\" style=\"display: none;\"><div style=\"display: table-cell;\"></div><div style=\"display: table-cell;\">js_event_callbacks&nbsp;=&nbsp;{},</div></div><div class=\"1028\" style=\"display: none;\"><div style=\"display: table-cell;\"></div><div style=\"display: table-cell;\">js_property_callbacks&nbsp;=&nbsp;{},</div></div><div class=\"1028\" style=\"display: none;\"><div style=\"display: table-cell;\"></div><div style=\"display: table-cell;\">level&nbsp;=&nbsp;'glyph',</div></div><div class=\"1028\" style=\"display: none;\"><div style=\"display: table-cell;\"></div><div style=\"display: table-cell;\">muted&nbsp;=&nbsp;False,</div></div><div class=\"1028\" style=\"display: none;\"><div style=\"display: table-cell;\"></div><div style=\"display: table-cell;\">muted_glyph&nbsp;=&nbsp;None,</div></div><div class=\"1028\" style=\"display: none;\"><div style=\"display: table-cell;\"></div><div style=\"display: table-cell;\">name&nbsp;=&nbsp;None,</div></div><div class=\"1028\" style=\"display: none;\"><div style=\"display: table-cell;\"></div><div style=\"display: table-cell;\">nonselection_glyph&nbsp;=&nbsp;Scatter(id='1025', ...),</div></div><div class=\"1028\" style=\"display: none;\"><div style=\"display: table-cell;\"></div><div style=\"display: table-cell;\">selection_glyph&nbsp;=&nbsp;None,</div></div><div class=\"1028\" style=\"display: none;\"><div style=\"display: table-cell;\"></div><div style=\"display: table-cell;\">subscribed_events&nbsp;=&nbsp;[],</div></div><div class=\"1028\" style=\"display: none;\"><div style=\"display: table-cell;\"></div><div style=\"display: table-cell;\">tags&nbsp;=&nbsp;[],</div></div><div class=\"1028\" style=\"display: none;\"><div style=\"display: table-cell;\"></div><div style=\"display: table-cell;\">view&nbsp;=&nbsp;CDSView(id='1027', ...),</div></div><div class=\"1028\" style=\"display: none;\"><div style=\"display: table-cell;\"></div><div style=\"display: table-cell;\">visible&nbsp;=&nbsp;True,</div></div><div class=\"1028\" style=\"display: none;\"><div style=\"display: table-cell;\"></div><div style=\"display: table-cell;\">x_range_name&nbsp;=&nbsp;'default',</div></div><div class=\"1028\" style=\"display: none;\"><div style=\"display: table-cell;\"></div><div style=\"display: table-cell;\">y_range_name&nbsp;=&nbsp;'default')</div></div></div>\n",
       "<script>\n",
       "(function() {\n",
       "  var expanded = false;\n",
       "  var ellipsis = document.getElementById(\"1029\");\n",
       "  ellipsis.addEventListener(\"click\", function() {\n",
       "    var rows = document.getElementsByClassName(\"1028\");\n",
       "    for (var i = 0; i < rows.length; i++) {\n",
       "      var el = rows[i];\n",
       "      el.style.display = expanded ? \"none\" : \"table-row\";\n",
       "    }\n",
       "    ellipsis.innerHTML = expanded ? \"&hellip;)\" : \"&lsaquo;&lsaquo;&lsaquo;\";\n",
       "    expanded = !expanded;\n",
       "  });\n",
       "})();\n",
       "</script>\n"
      ],
      "text/plain": [
       "GlyphRenderer(id='1026', ...)"
      ]
     },
     "execution_count": 5,
     "metadata": {},
     "output_type": "execute_result"
    }
   ],
   "source": [
    "### Task2: Data Visualization\n",
    "# Reference link:\n",
    "# (range tool example) https://docs.bokeh.org/en/latest/docs/gallery/range_tool.html?highlight=rangetool\n",
    "\n",
    "\n",
    "## T2.1 Covid-19 Total Tests Scatter Plot\n",
    "# x axis is the time, and y axis is the total test number. \n",
    "# Set the initial x_range to be the first 30 days.\n",
    "\n",
    "TOOLS = \"box_select,lasso_select,wheel_zoom,pan,reset,help\"\n",
    "p = figure(plot_width=1200, plot_height=1000, x_axis_type=\"datetime\", x_range=(date[0], date[29]), tools=\"xpan\")\n",
    "p.scatter(x=\"date\", y=\"test_num\", fill_color=mapper, source=source, size=10)"
   ]
  },
  {
   "cell_type": "code",
   "execution_count": 6,
   "metadata": {},
   "outputs": [],
   "source": [
    "p.title.text = 'Covid-19 Tests in Switzerland'\n",
    "p.yaxis.axis_label = \"Total Tests\"\n",
    "p.xaxis.axis_label = \"Date\"\n",
    "p.sizing_mode = \"stretch_both\""
   ]
  },
  {
   "cell_type": "code",
   "execution_count": 7,
   "metadata": {},
   "outputs": [],
   "source": [
    "# Add a hovertool to display date, total test number\n",
    "hover = HoverTool(tooltips=[\n",
    "                              (\"date\", \"@date{%Y-%m-%d}\"),\n",
    "                              (\"test\", \"@test_num\")],\n",
    "                          formatters={\n",
    "                              \"@date\" : \"datetime\"\n",
    "                          })\n",
    "p.add_tools(hover)"
   ]
  },
  {
   "cell_type": "code",
   "execution_count": 8,
   "metadata": {},
   "outputs": [],
   "source": [
    "## T2.2 Add a colorbar to the above scatter plot, and encode positve rate values with colors; please use the color mapper defined in T1.3 \n",
    "\n",
    "color_bar = ColorBar(color_mapper=mapper[\"transform\"], title=\"P_Rate\", location=(0,0))\n",
    "p.add_layout(color_bar, 'right')\n"
   ]
  },
  {
   "cell_type": "code",
   "execution_count": 9,
   "metadata": {},
   "outputs": [],
   "source": [
    "## T2.3 Covid-19 Positive Number Plot using RangeTool\n",
    "# In this range plot, x axis is the time, and y axis is the positive test number.\n",
    "\n",
    "select = figure(title=\"Drag the middle and edges of the selection box to change the range above\",\n",
    "                plot_height=300, plot_width=1200,\n",
    "                x_axis_type=\"datetime\",\n",
    "                tools=\"\")"
   ]
  },
  {
   "cell_type": "code",
   "execution_count": 10,
   "metadata": {},
   "outputs": [],
   "source": [
    "# Define a RangeTool to link with x_range in the scatter plot\n",
    "range_tool = RangeTool(x_range=p.x_range)\n",
    "range_tool.overlay.fill_color = \"navy\""
   ]
  },
  {
   "cell_type": "code",
   "execution_count": 11,
   "metadata": {},
   "outputs": [],
   "source": [
    "# Draw a line plot and add the RangeTool to the plot\n",
    "\n",
    "select.line(x=\"date\", y=\"pos_num\", source=source)\n",
    "select.yaxis.axis_label = \"Positive Cases\"\n",
    "select.xaxis.axis_label = \"Date\"\n",
    "select.add_tools(range_tool)\n",
    "select.toolbar.active_multi = range_tool\n"
   ]
  },
  {
   "cell_type": "code",
   "execution_count": 12,
   "metadata": {},
   "outputs": [],
   "source": [
    "# Add a hovertool to the range plot and display date, positive test number\n",
    "hover2 = HoverTool(tooltips=[\n",
    "                      (\"date\", \"@date{%Y-%m-%d}\"),\n",
    "                      (\"positive\", \"@pos_num\")],\n",
    "                    formatters={\n",
    "                      \"@date\" : \"datetime\"\n",
    "                    })\n",
    "select.add_tools(hover2)"
   ]
  },
  {
   "cell_type": "code",
   "execution_count": 13,
   "metadata": {},
   "outputs": [],
   "source": [
    "## T2.4 Layout arrangement and display\n",
    "\n",
    "linked_p = gridplot([[p],[select]])\n",
    "show(linked_p)"
   ]
  },
  {
   "cell_type": "code",
   "execution_count": null,
   "metadata": {},
   "outputs": [],
   "source": [
    "output_file(\"dvc_ex3.html\")\n",
    "save(linked_p)"
   ]
  }
 ],
 "metadata": {
  "kernelspec": {
   "display_name": "Python 3",
   "language": "python",
   "name": "python3"
  },
  "language_info": {
   "codemirror_mode": {
    "name": "ipython",
    "version": 3
   },
   "file_extension": ".py",
   "mimetype": "text/x-python",
   "name": "python",
   "nbconvert_exporter": "python",
   "pygments_lexer": "ipython3",
   "version": "3.7.3"
  }
 },
 "nbformat": 4,
 "nbformat_minor": 2
}
