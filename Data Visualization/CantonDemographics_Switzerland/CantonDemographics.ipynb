{
 "cells": [
  {
   "cell_type": "code",
   "execution_count": 1,
   "metadata": {},
   "outputs": [
    {
     "name": "stdout",
     "output_type": "stream",
     "text": [
      "      Unnamed: 0 age_group canton  pop_size       sex\n",
      "5467          13   40 - 49     CH    601554  Weiblich\n",
      "5468          14   50 - 59     CH    638522  Weiblich\n",
      "5469          15   60 - 69     CH    476169  Weiblich\n",
      "5470          16   70 - 79     CH    379079  Weiblich\n",
      "5471          17       80+     CH    276346  Weiblich\n"
     ]
    }
   ],
   "source": [
    "import pandas as pd \n",
    "from math import pi\n",
    "from bokeh.io import output_file, show, save\n",
    "from bokeh.plotting import figure\n",
    "from bokeh.models import ColumnDataSource, HoverTool,FactorRange,CustomJS\n",
    "import bokeh.palettes as bp # uncomment it if you need special colors that are pre-defined\n",
    "\n",
    " \n",
    "### Task 1: Data Preprocessing\n",
    " \n",
    "\n",
    "## T1.1 Read online .csv file into a dataframe using pandas\n",
    "# Reference links: \n",
    "# https://pandas.pydata.org/pandas-docs/stable/reference/frame.html\n",
    "# https://stackoverflow.com/questions/55240330/how-to-read-csv-file-from-github-using-pandas \n",
    "\n",
    "# original_url = 'https://raw.githubusercontent.com/daenuprobst/covid19-cases-switzerland/master/demographics_switzerland_bag.csv'\n",
    "# df = pd.read_csv(original_url)\n",
    "df=pd.read_csv(\"demographics_switzerland_bag.csv\")\n",
    "print(df.tail())\n",
    "\n",
    "\n"
   ]
  },
  {
   "cell_type": "code",
   "execution_count": 2,
   "metadata": {},
   "outputs": [
    {
     "name": "stdout",
     "output_type": "stream",
     "text": [
      "      Unnamed: 0 age_group canton  pop_size       sex\n",
      "5449        5449       80+     ZH       890  Weiblich\n",
      "5450        5450       80+     ZH       183  Weiblich\n",
      "5451        5451       80+     ZH      4211  Weiblich\n",
      "5452        5452       80+     ZH      4869  Weiblich\n",
      "5453        5453       80+     ZH       364  Weiblich\n"
     ]
    }
   ],
   "source": [
    "## T1.2 Prepare data for a grouped vbar_stack plot\n",
    "# Reference link, read first before starting: \n",
    "# https://docs.bokeh.org/en/latest/docs/user_guide/categorical.html#stacked-and-grouped\n",
    "\n",
    "\n",
    "# Filter out rows containing 'CH' \n",
    "df = df[df[\"canton\"]!=\"CH\"]\n",
    "print(df.tail())\n"
   ]
  },
  {
   "cell_type": "code",
   "execution_count": 3,
   "metadata": {},
   "outputs": [
    {
     "name": "stdout",
     "output_type": "stream",
     "text": [
      "{'NW', 'LU', 'AG', 'BL', 'FL', 'ZG', 'NE', 'FR', 'BE', 'GL', 'VD', 'AI', 'GE', 'OW', 'BS', 'SZ', 'GR', 'VS', 'UR', 'SH', 'SG', 'ZH', 'TI', 'SO', 'JU', 'AR', 'TG'}\n",
      "{'40 - 49', '50 - 59', '60 - 69', '70 - 79', '0 - 9', '30 - 39', '20 - 29', '10 - 19', '80+'}\n",
      "{'Männlich', 'Weiblich'}\n"
     ]
    }
   ],
   "source": [
    "# Extract unique value lists of canton, age_group and sex\n",
    "canton = set((df[\"canton\"].tolist()))\n",
    "print(canton)\n",
    "age_group = set((df[\"age_group\"].tolist()))\n",
    "print(age_group)\n",
    "sex = set((df[\"sex\"].tolist()))\n",
    "print(sex)"
   ]
  },
  {
   "cell_type": "code",
   "execution_count": 4,
   "metadata": {},
   "outputs": [
    {
     "name": "stderr",
     "output_type": "stream",
     "text": [
      "D:\\Anaconda3\\lib\\site-packages\\ipykernel_launcher.py:3: FutureWarning: The 'get_values' method is deprecated and will be removed in a future version. Use '.values' or 'np.asarray(..)' instead.\n",
      "  This is separate from the ipykernel package so we can avoid doing imports until\n"
     ]
    }
   ],
   "source": [
    "# Create a list of categories in the form of [(canton1,age_group1), (canton2,age_group2), ...]\n",
    "import numpy as np\n",
    "factors = [tuple(i) for i in np.unique(df[[\"canton\", \"age_group\"]].get_values().tolist(), axis=0)]\n",
    "\n",
    "# Use genders as stack names\n",
    "stacks = ['male','female']\n",
    "\n",
    "# Calculate total population size as the value for each stack identified by canton,age_group and sex\n",
    "stack_val = df.groupby([\"canton\", \"age_group\", \"sex\"]).sum()[\"pop_size\"]\n",
    "\n",
    "# Build a ColumnDataSource using above information\n",
    "source = ColumnDataSource(data=dict(\n",
    "    x=factors,\n",
    "    male=df[df[\"sex\"]==\"Männlich\"].groupby([\"canton\", \"age_group\"]).sum()[\"pop_size\"].tolist(),\n",
    "    female=df[df[\"sex\"]==\"Weiblich\"].groupby([\"canton\", \"age_group\"]).sum()[\"pop_size\"].tolist()\n",
    "))"
   ]
  },
  {
   "cell_type": "code",
   "execution_count": 5,
   "metadata": {},
   "outputs": [],
   "source": [
    "\n",
    "### Task 2: Data Visualization\n",
    "\n",
    "\n",
    "## T2.1: Visualize the data using bokeh plot functions\n",
    "p=figure(x_range=FactorRange(*factors), plot_height=500, plot_width=800, title='Canton Population Visualization')\n",
    "p.yaxis.axis_label = \"Population Size\"\n",
    "p.xaxis.axis_label = \"Canton\"\n",
    "p.sizing_mode = \"stretch_both\"\n",
    "p.xgrid.grid_line_color = None\n",
    "p.xaxis.major_label_orientation = \"vertical\"\n",
    "p.xaxis.major_label_text_font_size=\"5pt\"\n",
    "\n",
    "#create a vertical bar graph\n",
    "renderers = p.vbar_stack(stacks, x=\"x\",  width=0.6, alpha=0.5, color=[\"lightgreen\", \"blue\"], source=source, name=stacks, legend_label=stacks)\n",
    "p.legend.location = \"top_left\"\n",
    "\n"
   ]
  },
  {
   "cell_type": "code",
   "execution_count": 6,
   "metadata": {},
   "outputs": [],
   "source": [
    "\n",
    "## T2.2 Add the hovering tooltips to the plot using HoverTool\n",
    "# To be specific, the hover tooltips should display “gender”, canton, age group”, and “population” when hovering.\n",
    "# https://docs.bokeh.org/en/latest/docs/user_guide/tools.html#hovertool\n",
    "# read more if you want to create fancy hover text: https://stackoverflow.com/questions/58716812/conditional-tooltip-bokeh-stacked-chart\n",
    "\n",
    "for r in renderers:\n",
    "    population = r.name\n",
    "    hover = HoverTool(tooltips=[\n",
    "        ('gender', \"$name\"),\n",
    "        ('canton', \"@x\"),\n",
    "        ('population', \"@%s\" % population),\n",
    "        \n",
    "    ], renderers=[r])\n",
    "    p.add_tools(hover)\n",
    "\n",
    "show(p)"
   ]
  },
  {
   "cell_type": "code",
   "execution_count": null,
   "metadata": {},
   "outputs": [],
   "source": [
    "## T2.3 Save the plot as \"dvc_ex1.html\" using output_file\n",
    "output_file('dvc_ex1.html', mode='inline')\n",
    "save(p)"
   ]
  }
 ],
 "metadata": {
  "kernelspec": {
   "display_name": "Python 3",
   "language": "python",
   "name": "python3"
  },
  "language_info": {
   "codemirror_mode": {
    "name": "ipython",
    "version": 3
   },
   "file_extension": ".py",
   "mimetype": "text/x-python",
   "name": "python",
   "nbconvert_exporter": "python",
   "pygments_lexer": "ipython3",
   "version": "3.7.3"
  }
 },
 "nbformat": 4,
 "nbformat_minor": 2
}
