{
 "cells": [
  {
   "cell_type": "code",
   "execution_count": 1,
   "metadata": {},
   "outputs": [],
   "source": [
    "import pandas as pd \n",
    "from math import pi\n",
    "import numpy as np\n",
    "from bokeh.io import output_file, show, save\n",
    "from bokeh.plotting import figure\n",
    "from bokeh.models import ColumnDataSource, HoverTool,FactorRange\n",
    "import bokeh.palettes as bp\n",
    " \n",
    "# Goal: Draw a line chart displaying averaged daily new cases for all cantons in Switzerland.\n",
    "# Dataset: covid19_cases_switzerland_openzh-phase2.csv\n",
    "# Interpretation: value on row i, column j is either the cumulative covid-19 case number of canton j on date i or null value\n"
   ]
  },
  {
   "cell_type": "code",
   "execution_count": 2,
   "metadata": {},
   "outputs": [],
   "source": [
    "### Task 1: Data Preprocessing\n",
    "\n",
    "\n",
    "## T1.1 Read data into a dataframe, set column \"Date\" to be the index \n",
    "\n",
    "url = 'https://raw.githubusercontent.com/daenuprobst/covid19-cases-switzerland/master/covid19_cases_switzerland_openzh-phase2.csv'\n",
    "raw = pd.read_csv(url, index_col=\"Date\", usecols=range(0,28))\n",
    "\n",
    "# Initialize the first row with zeros, and remove the last column 'CH' from dataframe\n",
    "raw.loc[raw.index[0]]=0\n",
    "raw = raw.drop(columns=\"CH\")\n",
    "\n",
    "\n",
    "# Fill null with the value of previous date from same canton\n",
    "# https://pandas.pydata.org/pandas-docs/stable/reference/api/pandas.DataFrame.fillna.html\n",
    "df=raw.fillna(method=\"ffill\")\n"
   ]
  },
  {
   "cell_type": "code",
   "execution_count": 3,
   "metadata": {},
   "outputs": [],
   "source": [
    "## T1.2 Calculate and smooth daily case changes\n",
    "\n",
    "# Compute daily new cases (dnc) for each canton, e.g. new case on Tuesday = case on Tuesday - case on Monday;\n",
    "# Fill null with zeros as well\n",
    "dnc = df.diff(axis=0, periods=1)\n",
    "dnc = dnc.fillna(value=0)\n",
    "\n",
    "# Smooth daily new case by the average value in a rolling window, and the window size is defined by step\n",
    "# Why do we need smoothing? How does the window size affect the result?\n",
    "# https://pandas.pydata.org/pandas-docs/stable/reference/api/pandas.DataFrame.rolling.html\n",
    "step = 3\n",
    "dnc_avg = dnc.rolling(window=step).mean().fillna(0)"
   ]
  },
  {
   "cell_type": "code",
   "execution_count": 4,
   "metadata": {},
   "outputs": [],
   "source": [
    "## T1.3 Build a ColumnDataSource \n",
    "\n",
    "# Extract all canton names and dates\n",
    "# NOTE: be careful with the format of date when it is used as x input for a plot\n",
    "cantons = df.columns\n",
    "date = df.index.values\n",
    "\n",
    "\n",
    "# Create a color list to represent different cantons in the plot, you can either construct your own color patette or use the Bokeh color pallete\n",
    "color_palette = bp.plasma(26)\n",
    "\n",
    "# Build a dictionary with date and each canton name as a key, i.e., {'date':[], 'AG':[], ..., 'ZH':[]}\n",
    "# For each canton, the value is a list containing the averaged daily new cases\n",
    "source_dict={}\n",
    "for canton in cantons:\n",
    "    source_dict[canton]=dnc_avg[canton].values\n",
    "source_dict[\"date\"]=date\n",
    "\n",
    "#Here I change the date values to be processed as datetime objects\n",
    "source_dict[\"date\"]=pd.to_datetime(source_dict['date'])"
   ]
  },
  {
   "cell_type": "code",
   "execution_count": 5,
   "metadata": {},
   "outputs": [],
   "source": [
    "### Task 2: Data Visualization\n",
    "\n",
    "## T2.1: Draw a group of lines, each line represents a canton, using date, dnc_avg as x,y. Add proper legend.\n",
    "# https://docs.bokeh.org/en/latest/docs/reference/models/glyphs/line.html?highlight=line#bokeh.models.glyphs.Line\n",
    "# https://docs.bokeh.org/en/latest/docs/user_guide/interaction/legends.html\n",
    "## T2.2 Add hovering tooltips to display date, canton and averaged daily new case\n",
    "\n",
    "p = figure(plot_width=1000, plot_height=800, x_axis_type=\"datetime\")\n",
    "p.title.text = 'Daily New Cases in Switzerland'\n",
    "\n",
    "source = ColumnDataSource(data=source_dict)\n",
    "\n",
    "#Here I am plotting the lines using each canton, color pair with the corresponding case number, also including hover tooltips\n",
    "for canton,color in zip(cantons, color_palette): \n",
    "    canton_name=str(canton)\n",
    "    renderer=p.line(x=\"date\", y=canton_name, color= color, line_width=2, alpha=0.8, legend_label=canton, source=source)\n",
    "    p.add_tools(HoverTool(renderers=[renderer],\n",
    "                          tooltips=[\n",
    "                              (\"date\", \"@date{%Y-%m-%d}\"),\n",
    "                              (\"canton\", canton),\n",
    "                              (\"cases\", \"@\"+canton_name+\"{int}\")],\n",
    "                          formatters={\n",
    "                              \"@date\" : \"datetime\"\n",
    "                          }\n",
    "                          ))\n",
    "# Make the legend of the plot clickable, and set the click_policy to be \"hide\"\n",
    "p.legend.location = \"top_left\"\n",
    "p.legend.click_policy=\"hide\"\n",
    "\n",
    "#Here I am displaying the plot and saving it as a file.\n",
    "show(p)\n"
   ]
  },
  {
   "cell_type": "code",
   "execution_count": null,
   "metadata": {},
   "outputs": [],
   "source": [
    "output_file(\"dvc_ex2.html\")\n",
    "save(p)"
   ]
  }
 ],
 "metadata": {
  "kernelspec": {
   "display_name": "Python 3",
   "language": "python",
   "name": "python3"
  },
  "language_info": {
   "codemirror_mode": {
    "name": "ipython",
    "version": 3
   },
   "file_extension": ".py",
   "mimetype": "text/x-python",
   "name": "python",
   "nbconvert_exporter": "python",
   "pygments_lexer": "ipython3",
   "version": "3.7.3"
  }
 },
 "nbformat": 4,
 "nbformat_minor": 2
}
