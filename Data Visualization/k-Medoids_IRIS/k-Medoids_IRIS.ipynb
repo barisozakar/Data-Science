{
 "cells": [
  {
   "cell_type": "code",
   "execution_count": 1,
   "metadata": {},
   "outputs": [
    {
     "data": {
      "text/html": [
       "\n",
       "    <div class=\"bk-root\">\n",
       "        <a href=\"https://bokeh.org\" target=\"_blank\" class=\"bk-logo bk-logo-small bk-logo-notebook\"></a>\n",
       "        <span id=\"1001\">Loading BokehJS ...</span>\n",
       "    </div>"
      ]
     },
     "metadata": {},
     "output_type": "display_data"
    },
    {
     "data": {
      "application/javascript": [
       "\n",
       "(function(root) {\n",
       "  function now() {\n",
       "    return new Date();\n",
       "  }\n",
       "\n",
       "  var force = true;\n",
       "\n",
       "  if (typeof root._bokeh_onload_callbacks === \"undefined\" || force === true) {\n",
       "    root._bokeh_onload_callbacks = [];\n",
       "    root._bokeh_is_loading = undefined;\n",
       "  }\n",
       "\n",
       "  var JS_MIME_TYPE = 'application/javascript';\n",
       "  var HTML_MIME_TYPE = 'text/html';\n",
       "  var EXEC_MIME_TYPE = 'application/vnd.bokehjs_exec.v0+json';\n",
       "  var CLASS_NAME = 'output_bokeh rendered_html';\n",
       "\n",
       "  /**\n",
       "   * Render data to the DOM node\n",
       "   */\n",
       "  function render(props, node) {\n",
       "    var script = document.createElement(\"script\");\n",
       "    node.appendChild(script);\n",
       "  }\n",
       "\n",
       "  /**\n",
       "   * Handle when an output is cleared or removed\n",
       "   */\n",
       "  function handleClearOutput(event, handle) {\n",
       "    var cell = handle.cell;\n",
       "\n",
       "    var id = cell.output_area._bokeh_element_id;\n",
       "    var server_id = cell.output_area._bokeh_server_id;\n",
       "    // Clean up Bokeh references\n",
       "    if (id != null && id in Bokeh.index) {\n",
       "      Bokeh.index[id].model.document.clear();\n",
       "      delete Bokeh.index[id];\n",
       "    }\n",
       "\n",
       "    if (server_id !== undefined) {\n",
       "      // Clean up Bokeh references\n",
       "      var cmd = \"from bokeh.io.state import curstate; print(curstate().uuid_to_server['\" + server_id + \"'].get_sessions()[0].document.roots[0]._id)\";\n",
       "      cell.notebook.kernel.execute(cmd, {\n",
       "        iopub: {\n",
       "          output: function(msg) {\n",
       "            var id = msg.content.text.trim();\n",
       "            if (id in Bokeh.index) {\n",
       "              Bokeh.index[id].model.document.clear();\n",
       "              delete Bokeh.index[id];\n",
       "            }\n",
       "          }\n",
       "        }\n",
       "      });\n",
       "      // Destroy server and session\n",
       "      var cmd = \"import bokeh.io.notebook as ion; ion.destroy_server('\" + server_id + \"')\";\n",
       "      cell.notebook.kernel.execute(cmd);\n",
       "    }\n",
       "  }\n",
       "\n",
       "  /**\n",
       "   * Handle when a new output is added\n",
       "   */\n",
       "  function handleAddOutput(event, handle) {\n",
       "    var output_area = handle.output_area;\n",
       "    var output = handle.output;\n",
       "\n",
       "    // limit handleAddOutput to display_data with EXEC_MIME_TYPE content only\n",
       "    if ((output.output_type != \"display_data\") || (!output.data.hasOwnProperty(EXEC_MIME_TYPE))) {\n",
       "      return\n",
       "    }\n",
       "\n",
       "    var toinsert = output_area.element.find(\".\" + CLASS_NAME.split(' ')[0]);\n",
       "\n",
       "    if (output.metadata[EXEC_MIME_TYPE][\"id\"] !== undefined) {\n",
       "      toinsert[toinsert.length - 1].firstChild.textContent = output.data[JS_MIME_TYPE];\n",
       "      // store reference to embed id on output_area\n",
       "      output_area._bokeh_element_id = output.metadata[EXEC_MIME_TYPE][\"id\"];\n",
       "    }\n",
       "    if (output.metadata[EXEC_MIME_TYPE][\"server_id\"] !== undefined) {\n",
       "      var bk_div = document.createElement(\"div\");\n",
       "      bk_div.innerHTML = output.data[HTML_MIME_TYPE];\n",
       "      var script_attrs = bk_div.children[0].attributes;\n",
       "      for (var i = 0; i < script_attrs.length; i++) {\n",
       "        toinsert[toinsert.length - 1].firstChild.setAttribute(script_attrs[i].name, script_attrs[i].value);\n",
       "        toinsert[toinsert.length - 1].firstChild.textContent = bk_div.children[0].textContent\n",
       "      }\n",
       "      // store reference to server id on output_area\n",
       "      output_area._bokeh_server_id = output.metadata[EXEC_MIME_TYPE][\"server_id\"];\n",
       "    }\n",
       "  }\n",
       "\n",
       "  function register_renderer(events, OutputArea) {\n",
       "\n",
       "    function append_mime(data, metadata, element) {\n",
       "      // create a DOM node to render to\n",
       "      var toinsert = this.create_output_subarea(\n",
       "        metadata,\n",
       "        CLASS_NAME,\n",
       "        EXEC_MIME_TYPE\n",
       "      );\n",
       "      this.keyboard_manager.register_events(toinsert);\n",
       "      // Render to node\n",
       "      var props = {data: data, metadata: metadata[EXEC_MIME_TYPE]};\n",
       "      render(props, toinsert[toinsert.length - 1]);\n",
       "      element.append(toinsert);\n",
       "      return toinsert\n",
       "    }\n",
       "\n",
       "    /* Handle when an output is cleared or removed */\n",
       "    events.on('clear_output.CodeCell', handleClearOutput);\n",
       "    events.on('delete.Cell', handleClearOutput);\n",
       "\n",
       "    /* Handle when a new output is added */\n",
       "    events.on('output_added.OutputArea', handleAddOutput);\n",
       "\n",
       "    /**\n",
       "     * Register the mime type and append_mime function with output_area\n",
       "     */\n",
       "    OutputArea.prototype.register_mime_type(EXEC_MIME_TYPE, append_mime, {\n",
       "      /* Is output safe? */\n",
       "      safe: true,\n",
       "      /* Index of renderer in `output_area.display_order` */\n",
       "      index: 0\n",
       "    });\n",
       "  }\n",
       "\n",
       "  // register the mime type if in Jupyter Notebook environment and previously unregistered\n",
       "  if (root.Jupyter !== undefined) {\n",
       "    var events = require('base/js/events');\n",
       "    var OutputArea = require('notebook/js/outputarea').OutputArea;\n",
       "\n",
       "    if (OutputArea.prototype.mime_types().indexOf(EXEC_MIME_TYPE) == -1) {\n",
       "      register_renderer(events, OutputArea);\n",
       "    }\n",
       "  }\n",
       "\n",
       "  \n",
       "  if (typeof (root._bokeh_timeout) === \"undefined\" || force === true) {\n",
       "    root._bokeh_timeout = Date.now() + 5000;\n",
       "    root._bokeh_failed_load = false;\n",
       "  }\n",
       "\n",
       "  var NB_LOAD_WARNING = {'data': {'text/html':\n",
       "     \"<div style='background-color: #fdd'>\\n\"+\n",
       "     \"<p>\\n\"+\n",
       "     \"BokehJS does not appear to have successfully loaded. If loading BokehJS from CDN, this \\n\"+\n",
       "     \"may be due to a slow or bad network connection. Possible fixes:\\n\"+\n",
       "     \"</p>\\n\"+\n",
       "     \"<ul>\\n\"+\n",
       "     \"<li>re-rerun `output_notebook()` to attempt to load from CDN again, or</li>\\n\"+\n",
       "     \"<li>use INLINE resources instead, as so:</li>\\n\"+\n",
       "     \"</ul>\\n\"+\n",
       "     \"<code>\\n\"+\n",
       "     \"from bokeh.resources import INLINE\\n\"+\n",
       "     \"output_notebook(resources=INLINE)\\n\"+\n",
       "     \"</code>\\n\"+\n",
       "     \"</div>\"}};\n",
       "\n",
       "  function display_loaded() {\n",
       "    var el = document.getElementById(\"1001\");\n",
       "    if (el != null) {\n",
       "      el.textContent = \"BokehJS is loading...\";\n",
       "    }\n",
       "    if (root.Bokeh !== undefined) {\n",
       "      if (el != null) {\n",
       "        el.textContent = \"BokehJS \" + root.Bokeh.version + \" successfully loaded.\";\n",
       "      }\n",
       "    } else if (Date.now() < root._bokeh_timeout) {\n",
       "      setTimeout(display_loaded, 100)\n",
       "    }\n",
       "  }\n",
       "\n",
       "\n",
       "  function run_callbacks() {\n",
       "    try {\n",
       "      root._bokeh_onload_callbacks.forEach(function(callback) {\n",
       "        if (callback != null)\n",
       "          callback();\n",
       "      });\n",
       "    } finally {\n",
       "      delete root._bokeh_onload_callbacks\n",
       "    }\n",
       "    console.debug(\"Bokeh: all callbacks have finished\");\n",
       "  }\n",
       "\n",
       "  function load_libs(css_urls, js_urls, callback) {\n",
       "    if (css_urls == null) css_urls = [];\n",
       "    if (js_urls == null) js_urls = [];\n",
       "\n",
       "    root._bokeh_onload_callbacks.push(callback);\n",
       "    if (root._bokeh_is_loading > 0) {\n",
       "      console.debug(\"Bokeh: BokehJS is being loaded, scheduling callback at\", now());\n",
       "      return null;\n",
       "    }\n",
       "    if (js_urls == null || js_urls.length === 0) {\n",
       "      run_callbacks();\n",
       "      return null;\n",
       "    }\n",
       "    console.debug(\"Bokeh: BokehJS not loaded, scheduling load and callback at\", now());\n",
       "    root._bokeh_is_loading = css_urls.length + js_urls.length;\n",
       "\n",
       "    function on_load() {\n",
       "      root._bokeh_is_loading--;\n",
       "      if (root._bokeh_is_loading === 0) {\n",
       "        console.debug(\"Bokeh: all BokehJS libraries/stylesheets loaded\");\n",
       "        run_callbacks()\n",
       "      }\n",
       "    }\n",
       "\n",
       "    function on_error() {\n",
       "      console.error(\"failed to load \" + url);\n",
       "    }\n",
       "\n",
       "    for (var i = 0; i < css_urls.length; i++) {\n",
       "      var url = css_urls[i];\n",
       "      const element = document.createElement(\"link\");\n",
       "      element.onload = on_load;\n",
       "      element.onerror = on_error;\n",
       "      element.rel = \"stylesheet\";\n",
       "      element.type = \"text/css\";\n",
       "      element.href = url;\n",
       "      console.debug(\"Bokeh: injecting link tag for BokehJS stylesheet: \", url);\n",
       "      document.body.appendChild(element);\n",
       "    }\n",
       "\n",
       "    const hashes = {\"https://cdn.bokeh.org/bokeh/release/bokeh-2.2.1.min.js\": \"qkRvDQVAIfzsJo40iRBbxt6sttt0hv4lh74DG7OK4MCHv4C5oohXYoHUM5W11uqS\", \"https://cdn.bokeh.org/bokeh/release/bokeh-widgets-2.2.1.min.js\": \"Sb7Mr06a9TNlet/GEBeKaf5xH3eb6AlCzwjtU82wNPyDrnfoiVl26qnvlKjmcAd+\", \"https://cdn.bokeh.org/bokeh/release/bokeh-tables-2.2.1.min.js\": \"HaJ15vgfmcfRtB4c4YBOI4f1MUujukqInOWVqZJZZGK7Q+ivud0OKGSTn/Vm2iso\"};\n",
       "\n",
       "    for (var i = 0; i < js_urls.length; i++) {\n",
       "      var url = js_urls[i];\n",
       "      var element = document.createElement('script');\n",
       "      element.onload = on_load;\n",
       "      element.onerror = on_error;\n",
       "      element.async = false;\n",
       "      element.src = url;\n",
       "      if (url in hashes) {\n",
       "        element.crossOrigin = \"anonymous\";\n",
       "        element.integrity = \"sha384-\" + hashes[url];\n",
       "      }\n",
       "      console.debug(\"Bokeh: injecting script tag for BokehJS library: \", url);\n",
       "      document.head.appendChild(element);\n",
       "    }\n",
       "  };\n",
       "\n",
       "  function inject_raw_css(css) {\n",
       "    const element = document.createElement(\"style\");\n",
       "    element.appendChild(document.createTextNode(css));\n",
       "    document.body.appendChild(element);\n",
       "  }\n",
       "\n",
       "  \n",
       "  var js_urls = [\"https://cdn.bokeh.org/bokeh/release/bokeh-2.2.1.min.js\", \"https://cdn.bokeh.org/bokeh/release/bokeh-widgets-2.2.1.min.js\", \"https://cdn.bokeh.org/bokeh/release/bokeh-tables-2.2.1.min.js\"];\n",
       "  var css_urls = [];\n",
       "  \n",
       "\n",
       "  var inline_js = [\n",
       "    function(Bokeh) {\n",
       "      Bokeh.set_log_level(\"info\");\n",
       "    },\n",
       "    function(Bokeh) {\n",
       "    \n",
       "    \n",
       "    }\n",
       "  ];\n",
       "\n",
       "  function run_inline_js() {\n",
       "    \n",
       "    if (root.Bokeh !== undefined || force === true) {\n",
       "      \n",
       "    for (var i = 0; i < inline_js.length; i++) {\n",
       "      inline_js[i].call(root, root.Bokeh);\n",
       "    }\n",
       "    if (force === true) {\n",
       "        display_loaded();\n",
       "      }} else if (Date.now() < root._bokeh_timeout) {\n",
       "      setTimeout(run_inline_js, 100);\n",
       "    } else if (!root._bokeh_failed_load) {\n",
       "      console.log(\"Bokeh: BokehJS failed to load within specified timeout.\");\n",
       "      root._bokeh_failed_load = true;\n",
       "    } else if (force !== true) {\n",
       "      var cell = $(document.getElementById(\"1001\")).parents('.cell').data().cell;\n",
       "      cell.output_area.append_execute_result(NB_LOAD_WARNING)\n",
       "    }\n",
       "\n",
       "  }\n",
       "\n",
       "  if (root._bokeh_is_loading === 0) {\n",
       "    console.debug(\"Bokeh: BokehJS loaded, going straight to plotting\");\n",
       "    run_inline_js();\n",
       "  } else {\n",
       "    load_libs(css_urls, js_urls, function() {\n",
       "      console.debug(\"Bokeh: BokehJS plotting callback run at\", now());\n",
       "      run_inline_js();\n",
       "    });\n",
       "  }\n",
       "}(window));"
      ],
      "application/vnd.bokehjs_load.v0+json": "\n(function(root) {\n  function now() {\n    return new Date();\n  }\n\n  var force = true;\n\n  if (typeof root._bokeh_onload_callbacks === \"undefined\" || force === true) {\n    root._bokeh_onload_callbacks = [];\n    root._bokeh_is_loading = undefined;\n  }\n\n  \n\n  \n  if (typeof (root._bokeh_timeout) === \"undefined\" || force === true) {\n    root._bokeh_timeout = Date.now() + 5000;\n    root._bokeh_failed_load = false;\n  }\n\n  var NB_LOAD_WARNING = {'data': {'text/html':\n     \"<div style='background-color: #fdd'>\\n\"+\n     \"<p>\\n\"+\n     \"BokehJS does not appear to have successfully loaded. If loading BokehJS from CDN, this \\n\"+\n     \"may be due to a slow or bad network connection. Possible fixes:\\n\"+\n     \"</p>\\n\"+\n     \"<ul>\\n\"+\n     \"<li>re-rerun `output_notebook()` to attempt to load from CDN again, or</li>\\n\"+\n     \"<li>use INLINE resources instead, as so:</li>\\n\"+\n     \"</ul>\\n\"+\n     \"<code>\\n\"+\n     \"from bokeh.resources import INLINE\\n\"+\n     \"output_notebook(resources=INLINE)\\n\"+\n     \"</code>\\n\"+\n     \"</div>\"}};\n\n  function display_loaded() {\n    var el = document.getElementById(\"1001\");\n    if (el != null) {\n      el.textContent = \"BokehJS is loading...\";\n    }\n    if (root.Bokeh !== undefined) {\n      if (el != null) {\n        el.textContent = \"BokehJS \" + root.Bokeh.version + \" successfully loaded.\";\n      }\n    } else if (Date.now() < root._bokeh_timeout) {\n      setTimeout(display_loaded, 100)\n    }\n  }\n\n\n  function run_callbacks() {\n    try {\n      root._bokeh_onload_callbacks.forEach(function(callback) {\n        if (callback != null)\n          callback();\n      });\n    } finally {\n      delete root._bokeh_onload_callbacks\n    }\n    console.debug(\"Bokeh: all callbacks have finished\");\n  }\n\n  function load_libs(css_urls, js_urls, callback) {\n    if (css_urls == null) css_urls = [];\n    if (js_urls == null) js_urls = [];\n\n    root._bokeh_onload_callbacks.push(callback);\n    if (root._bokeh_is_loading > 0) {\n      console.debug(\"Bokeh: BokehJS is being loaded, scheduling callback at\", now());\n      return null;\n    }\n    if (js_urls == null || js_urls.length === 0) {\n      run_callbacks();\n      return null;\n    }\n    console.debug(\"Bokeh: BokehJS not loaded, scheduling load and callback at\", now());\n    root._bokeh_is_loading = css_urls.length + js_urls.length;\n\n    function on_load() {\n      root._bokeh_is_loading--;\n      if (root._bokeh_is_loading === 0) {\n        console.debug(\"Bokeh: all BokehJS libraries/stylesheets loaded\");\n        run_callbacks()\n      }\n    }\n\n    function on_error() {\n      console.error(\"failed to load \" + url);\n    }\n\n    for (var i = 0; i < css_urls.length; i++) {\n      var url = css_urls[i];\n      const element = document.createElement(\"link\");\n      element.onload = on_load;\n      element.onerror = on_error;\n      element.rel = \"stylesheet\";\n      element.type = \"text/css\";\n      element.href = url;\n      console.debug(\"Bokeh: injecting link tag for BokehJS stylesheet: \", url);\n      document.body.appendChild(element);\n    }\n\n    const hashes = {\"https://cdn.bokeh.org/bokeh/release/bokeh-2.2.1.min.js\": \"qkRvDQVAIfzsJo40iRBbxt6sttt0hv4lh74DG7OK4MCHv4C5oohXYoHUM5W11uqS\", \"https://cdn.bokeh.org/bokeh/release/bokeh-widgets-2.2.1.min.js\": \"Sb7Mr06a9TNlet/GEBeKaf5xH3eb6AlCzwjtU82wNPyDrnfoiVl26qnvlKjmcAd+\", \"https://cdn.bokeh.org/bokeh/release/bokeh-tables-2.2.1.min.js\": \"HaJ15vgfmcfRtB4c4YBOI4f1MUujukqInOWVqZJZZGK7Q+ivud0OKGSTn/Vm2iso\"};\n\n    for (var i = 0; i < js_urls.length; i++) {\n      var url = js_urls[i];\n      var element = document.createElement('script');\n      element.onload = on_load;\n      element.onerror = on_error;\n      element.async = false;\n      element.src = url;\n      if (url in hashes) {\n        element.crossOrigin = \"anonymous\";\n        element.integrity = \"sha384-\" + hashes[url];\n      }\n      console.debug(\"Bokeh: injecting script tag for BokehJS library: \", url);\n      document.head.appendChild(element);\n    }\n  };\n\n  function inject_raw_css(css) {\n    const element = document.createElement(\"style\");\n    element.appendChild(document.createTextNode(css));\n    document.body.appendChild(element);\n  }\n\n  \n  var js_urls = [\"https://cdn.bokeh.org/bokeh/release/bokeh-2.2.1.min.js\", \"https://cdn.bokeh.org/bokeh/release/bokeh-widgets-2.2.1.min.js\", \"https://cdn.bokeh.org/bokeh/release/bokeh-tables-2.2.1.min.js\"];\n  var css_urls = [];\n  \n\n  var inline_js = [\n    function(Bokeh) {\n      Bokeh.set_log_level(\"info\");\n    },\n    function(Bokeh) {\n    \n    \n    }\n  ];\n\n  function run_inline_js() {\n    \n    if (root.Bokeh !== undefined || force === true) {\n      \n    for (var i = 0; i < inline_js.length; i++) {\n      inline_js[i].call(root, root.Bokeh);\n    }\n    if (force === true) {\n        display_loaded();\n      }} else if (Date.now() < root._bokeh_timeout) {\n      setTimeout(run_inline_js, 100);\n    } else if (!root._bokeh_failed_load) {\n      console.log(\"Bokeh: BokehJS failed to load within specified timeout.\");\n      root._bokeh_failed_load = true;\n    } else if (force !== true) {\n      var cell = $(document.getElementById(\"1001\")).parents('.cell').data().cell;\n      cell.output_area.append_execute_result(NB_LOAD_WARNING)\n    }\n\n  }\n\n  if (root._bokeh_is_loading === 0) {\n    console.debug(\"Bokeh: BokehJS loaded, going straight to plotting\");\n    run_inline_js();\n  } else {\n    load_libs(css_urls, js_urls, function() {\n      console.debug(\"Bokeh: BokehJS plotting callback run at\", now());\n      run_inline_js();\n    });\n  }\n}(window));"
     },
     "metadata": {},
     "output_type": "display_data"
    }
   ],
   "source": [
    "import numpy as np\n",
    "from bokeh.models import ColumnDataSource, Button, Select, Div\n",
    "from bokeh.sampledata.iris import flowers\n",
    "from bokeh.plotting import figure, curdoc ,show, output_notebook\n",
    "output_notebook()\n",
    "from bokeh.layouts import column, row\n",
    "\n",
    "# Important: You must also install pandas for the data import."
   ]
  },
  {
   "cell_type": "code",
   "execution_count": 2,
   "metadata": {},
   "outputs": [],
   "source": [
    "#This implementation uses array computations and no for loop takes 3.96ms\n",
    "# calculate the cost of the current medoid configuration\n",
    "# The cost is the sum of all minimal distances of all points to the closest medoids\n",
    "#1) The distance of a data point to a medoid is the sum of the absolute differences between the parameters petal length, petal width, sepal length and sepal width. This is also called the Manhattan distance.\n",
    "#2) The cost of a single data point is the minimum of its distances to all medoids.\n",
    "#3) The cost of the clustering is the sum of the costs of all data points i.e. the sum of all minimal distances of data points to their closest medoid.\n",
    "def get_cost(meds):\n",
    "    desired_columns=[\"sepal_length\",\"sepal_width\",\"petal_length\",\"petal_width\"]\n",
    "    all_data=np.array(data.loc[:,desired_columns])\n",
    "    all_data_new=all_data[:, np.newaxis]\n",
    "    data_meds=np.array(data.loc[meds,desired_columns])\n",
    "    total_cost=np.sum(np.min(np.sum(abs(all_data_new-data_meds), axis=2), axis=1))\n",
    "    return total_cost"
   ]
  },
  {
   "cell_type": "code",
   "execution_count": 3,
   "metadata": {},
   "outputs": [],
   "source": [
    "def change_colors(meds):\n",
    "    desired_columns=[\"sepal_length\",\"sepal_width\",\"petal_length\",\"petal_width\"]\n",
    "    data_meds=data.loc[meds, desired_columns]\n",
    "    red=\"#E74C3C\"\n",
    "    green=\"#58D68D\"\n",
    "    blue=\"#3498DB\"\n",
    "    colors=[red, green, blue]\n",
    "    for i in range(len(data)):\n",
    "        row=data.loc[i, desired_columns]\n",
    "        row_costs=np.sum(abs(row-data_meds), axis=1)\n",
    "        data.loc[i,\"color\"]=colors[np.argmin(np.array(row_costs))]"
   ]
  },
  {
   "cell_type": "code",
   "execution_count": 4,
   "metadata": {},
   "outputs": [],
   "source": [
    "# #This uses a for loop which slows the computation by 100-fold takes 391 ms\n",
    "# # calculate the cost of the current medoid configuration\n",
    "# # The cost is the sum of all minimal distances of all points to the closest medoids\n",
    "# #1) The distance of a data point to a medoid is the sum of the absolute differences between the parameters petal length, petal width, sepal length and sepal width. This is also called the Manhattan distance.\n",
    "# #2) The cost of a single data point is the minimum of its distances to all medoids.\n",
    "# #3) The cost of the clustering is the sum of the costs of all data points i.e. the sum of all minimal distances of data points to their closest medoid.\n",
    "# def get_cost(meds):\n",
    "#     desired_columns=[\"sepal_length\",\"sepal_width\",\"petal_length\",\"petal_width\"]\n",
    "#     data_meds=data.loc[meds, desired_columns]\n",
    "#     total_cost=0\n",
    "#     for i in range(len(data)):\n",
    "#         row=data.loc[i, desired_columns]\n",
    "#         row_cost=np.min(np.sum(abs(row-data_meds), axis=1), axis=0)\n",
    "#         total_cost=total_cost+row_cost\n",
    "#     return total_cost"
   ]
  },
  {
   "cell_type": "code",
   "execution_count": 5,
   "metadata": {},
   "outputs": [],
   "source": [
    "# # calculate the cost of the current medoid configuration\n",
    "# # The cost is the sum of all minimal distances of all points to the closest medoids\n",
    "# #1) The distance of a data point to a medoid is the sum of the absolute differences between the parameters petal length, petal width, sepal length and sepal width. This is also called the Manhattan distance.\n",
    "# #2) The cost of a single data point is the minimum of its distances to all medoids.\n",
    "# #3) The cost of the clustering is the sum of the costs of all data points i.e. the sum of all minimal distances of data points to their closest medoid.\n",
    "# def get_cost(meds):\n",
    "#     desired_columns=[\"sepal_length\",\"sepal_width\",\"petal_length\",\"petal_width\"]\n",
    "#     data_meds=data.loc[meds, desired_columns]\n",
    "#     total_cost=0\n",
    "#     for i in range(len(data)):\n",
    "#         row=data.loc[i, desired_columns]\n",
    "#         row_costs=np.sum(abs(row-data_meds), axis=1)\n",
    "#         data.loc[i,\"cluster\"]=np.argmin(row_costs)\n",
    "#         total_cost=total_cost+np.min(row_costs)\n",
    "#     return total_cost"
   ]
  },
  {
   "cell_type": "code",
   "execution_count": 6,
   "metadata": {},
   "outputs": [],
   "source": [
    "# # implement the k-medoids algorithm in this function and hook it to the callback of the button in the dashboard\n",
    "# # check the value of the select widget and use random medoids if it is set to true and use the pre-defined medoids\n",
    "# # if it is set to false.\n",
    "# def k_medoids():\n",
    "#     # number of clusters:\n",
    "#     k = 3\n",
    "#     # Use the following medoids if random medoid is set to false in the dashboard. These numbers are indices into the\n",
    "#     # data array.\n",
    "#     medoids = [24, 74, 124]\n",
    "#     while(len(combination_dict)>0 or iteration==1):\n",
    "#         print(medoids)\n",
    "#         nonmedoids=[i for i in range(150) if i not in medoids]\n",
    "#         current_cost=get_cost(medoids)\n",
    "#         for medoid in medoids:\n",
    "#             for nonmedoid in nonmedoids:\n",
    "#                 new_medoids=[x for x in medoids if x!=medoid]+[nonmedoid]\n",
    "#                 new_cost=(get_cost(new_medoids)<current_cost)\n",
    "#                 if (new_cost<current_cost):\n",
    "#                     combination_dict[(medoid, nonmedoid)]=new_cost\n",
    "#         m,p=get_combination(min(combination_dict.values()))\n",
    "#         medoids=[x for x in medoids if x!=m]+[p]"
   ]
  },
  {
   "cell_type": "code",
   "execution_count": 7,
   "metadata": {},
   "outputs": [],
   "source": [
    "# implement the k-medoids algorithm in this function and hook it to the callback of the button in the dashboard\n",
    "# check the value of the select widget and use random medoids if it is set to true and use the pre-defined medoids\n",
    "# if it is set to false.\n",
    "def k_medoids():\n",
    "    # number of clusters:\n",
    "    k = 3\n",
    "    # Use the following medoids if random medoid is set to false in the dashboard. These numbers are indices into the\n",
    "    # data array.\n",
    "#     isRandom=dropdown.value\n",
    "#     if isRandom:\n",
    "#         medoids=[]\n",
    "#         for i in range(3):\n",
    "#             while(True):\n",
    "#                 r=np.random.randint(len(data))\n",
    "#                 if r not in medoids: \n",
    "#                     medoids.append(r)\n",
    "#                     break\n",
    "#     else:\n",
    "    medoids = [24, 74, 124]\n",
    "    m_array=[]\n",
    "    p_array=[]\n",
    "    cost_array=[]\n",
    "    print(\"starting medoids: %s\" % str(medoids))\n",
    "    while(True):\n",
    "        nonmedoids=[i for i in range(150) if i not in medoids]\n",
    "        current_cost=get_cost(medoids)\n",
    "        for medoid in medoids:\n",
    "            for nonmedoid in nonmedoids:\n",
    "                new_medoids=[x for x in medoids if x!=medoid]+[nonmedoid]\n",
    "                new_cost=get_cost(new_medoids)\n",
    "                if (new_cost<current_cost):\n",
    "                    m_array.append(medoid) \n",
    "                    p_array.append(nonmedoid)\n",
    "                    cost_array.append(new_cost)\n",
    "        if(len(cost_array)>0):\n",
    "            best_index=np.argmin(cost_array)\n",
    "            best_m=m_array[best_index]\n",
    "            best_p=p_array[best_index]\n",
    "            print(\"swapping medoids, new lowest cost= %f\" % cost_array[best_index])\n",
    "            medoids=[x for x in medoids if x!=best_m]+[best_p]\n",
    "            m_array=[]\n",
    "            p_array=[]\n",
    "            cost_array=[]\n",
    "        else:\n",
    "            break\n",
    "    print(\"Minimum found\")\n",
    "    print(\"Clustering completed\")\n",
    "    print(\"Final medoids: %s\" % str(medoids))\n",
    "    final_cost=get_cost(medoids)\n",
    "    print(\"Final cost: %f\" % final_cost)\n",
    "    return final_cost, medoids"
   ]
  },
  {
   "cell_type": "code",
   "execution_count": 8,
   "metadata": {},
   "outputs": [],
   "source": [
    "# read and store the dataset\n",
    "data = flowers.copy(deep=True)\n",
    "data = data.drop(['species'], axis=1)"
   ]
  },
  {
   "cell_type": "code",
   "execution_count": 9,
   "metadata": {},
   "outputs": [],
   "source": [
    "# create a color column in your dataframe and set it to gray on startup\n",
    "data.loc[:, \"color\"]=\"#808B96\""
   ]
  },
  {
   "cell_type": "code",
   "execution_count": 10,
   "metadata": {},
   "outputs": [],
   "source": [
    "# Create a ColumnDataSource from the data\n",
    "source=ColumnDataSource(data)"
   ]
  },
  {
   "cell_type": "code",
   "execution_count": 11,
   "metadata": {},
   "outputs": [
    {
     "data": {
      "application/vnd.bokehjs_exec.v0+json": "",
      "text/html": [
       "\n",
       "<script id=\"1003\">\n",
       "  var xhr = new XMLHttpRequest()\n",
       "  xhr.responseType = 'blob';\n",
       "  xhr.open('GET', \"http://localhost:62966/autoload.js?bokeh-autoload-element=1003&bokeh-absolute-url=http://localhost:62966&resources=none\", true);\n",
       "  \n",
       "  xhr.onload = function (event) {\n",
       "    var script = document.createElement('script'),\n",
       "    src = URL.createObjectURL(event.target.response);\n",
       "    script.src = src;\n",
       "    document.body.appendChild(script);\n",
       "  };\n",
       "xhr.send();\n",
       "</script>"
      ]
     },
     "metadata": {
      "application/vnd.bokehjs_exec.v0+json": {
       "server_id": "9a4d6f0f518e4d02bdb9cba25626abf8"
      }
     },
     "output_type": "display_data"
    }
   ],
   "source": [
    "# Create a select widget, a button, a DIV to show the final clustering cost and two figures for the scatter plots.\n",
    "def bkapp(doc):\n",
    "    \n",
    "    #Here, y_ranges and x_ranges are very important, if not specified the plot will be empty\n",
    "    p1 = figure(title=\"Scatterplot of flower distribution by petal length and sepal length\", \n",
    "                x_axis_label=\"Petal length\", \n",
    "                y_axis_label=\"Sepal length\",\n",
    "                plot_width=700, \n",
    "                plot_height=700)\n",
    "    \n",
    "    # Finally we add a line glyph to represent our data.\n",
    "    # The data can given, by referencing the column in a ColumnDataSource.\n",
    "    p1.scatter(x=\"petal_length\", y=\"sepal_length\", fill_color=\"color\", radius=0.04, fill_alpha=0.6, line_color=None, source=source)\n",
    "    \n",
    "    p2 = figure(title=\"Scatterplot of flower distribution by petal width and petal length\", \n",
    "                x_axis_label=\"Petal width\", \n",
    "                y_axis_label=\"Petal length\",\n",
    "                plot_width=700, \n",
    "                plot_height=700)\n",
    "\n",
    "    p2.scatter(x=\"petal_width\", y=\"petal_length\", fill_color=\"color\", radius=0.017,fill_alpha=0.6, line_color=None, source=source)\n",
    "    \n",
    "    \n",
    "    def change_click():    \n",
    "        final_cost, medoids=k_medoids()\n",
    "        div.text= \"The final cost is: \" + str(final_cost)\n",
    "        change_colors(medoids)\n",
    "        source.data[\"color\"]=np.array(data[\"color\"])\n",
    "        \n",
    "    headers=[\"False\", \"True\"]\n",
    "    \n",
    "    # We create the dropdown menu with the different taxons\n",
    "    dropdown = Select(value=\"False\", options=headers, title=\"Random Medoids\", width=200)\n",
    "    \n",
    "    bt = Button(label='Cluster data', width=200)\n",
    "    bt.on_click(change_click)\n",
    "    \n",
    "    div=Div(text=\"\")\n",
    "    \n",
    "#     #this is similar to layout however easier to put two things in a row using this\n",
    "#     lt=row(p, dropdown)\n",
    "    lt=row(column(dropdown, bt, div), p1, p2)\n",
    "    doc.add_root(lt)\n",
    "\n",
    "show(bkapp)"
   ]
  },
  {
   "cell_type": "code",
   "execution_count": 12,
   "metadata": {},
   "outputs": [],
   "source": [
    "# use curdoc to add your widgets to the document\n",
    "#curdoc().add_root(...)\n",
    "curdoc().title = \"DVA_ex_3\""
   ]
  },
  {
   "cell_type": "code",
   "execution_count": 13,
   "metadata": {},
   "outputs": [],
   "source": [
    "# use on of the commands below to start your application\n",
    "# bokeh serve --show dva_ex3_skeleton_HS20.py\n",
    "# python -m bokeh serve --show dva_ex3_skeleton_HS20.py\n",
    "# bokeh serve --dev --show dva_ex3_skeleton_HS20.py\n",
    "# python -m bokeh serve --dev --show dva_ex3_skeleton_HS20.py\n"
   ]
  },
  {
   "cell_type": "markdown",
   "metadata": {},
   "source": [
    "## Understanding broadcasting"
   ]
  },
  {
   "cell_type": "code",
   "execution_count": 14,
   "metadata": {},
   "outputs": [
    {
     "name": "stdout",
     "output_type": "stream",
     "text": [
      "[[1 2 3]\n",
      " [4 5 6]\n",
      " [7 8 9]]\n",
      "(3, 3)\n"
     ]
    }
   ],
   "source": [
    "x1 = np.arange(1,10).reshape(3,3)\n",
    "print(x1)\n",
    "print(np.shape(x1))\n"
   ]
  },
  {
   "cell_type": "code",
   "execution_count": 15,
   "metadata": {},
   "outputs": [
    {
     "name": "stdout",
     "output_type": "stream",
     "text": [
      "[[[1 2 3]]\n",
      "\n",
      " [[4 5 6]]\n",
      "\n",
      " [[7 8 9]]]\n",
      "(3, 1, 3)\n"
     ]
    }
   ],
   "source": [
    "#Now lets add new dimension to our data,\n",
    "\n",
    "x1_new = x1[:,np.newaxis]\n",
    "print(x1_new)\n",
    "print(np.shape(x1_new))"
   ]
  },
  {
   "cell_type": "code",
   "execution_count": 16,
   "metadata": {},
   "outputs": [
    {
     "name": "stdout",
     "output_type": "stream",
     "text": [
      "[[11 12 13]\n",
      " [14 15 16]\n",
      " [17 18 19]]\n"
     ]
    }
   ],
   "source": [
    "#You can see that newaxis added the extra dimension here, x1 had dimension (3,3) and X1_new has dimension (3,1,3).\n",
    "\n",
    "#How our new dimension enables us to different operations:\n",
    "\n",
    "x2 = np.arange(11,20).reshape(3,3)\n",
    "print(x2)"
   ]
  },
  {
   "cell_type": "code",
   "execution_count": 17,
   "metadata": {},
   "outputs": [
    {
     "name": "stdout",
     "output_type": "stream",
     "text": [
      "[[[12 14 16]\n",
      "  [15 17 19]\n",
      "  [18 20 22]]\n",
      "\n",
      " [[15 17 19]\n",
      "  [18 20 22]\n",
      "  [21 23 25]]\n",
      "\n",
      " [[18 20 22]\n",
      "  [21 23 25]\n",
      "  [24 26 28]]]\n",
      "(3, 3, 3)\n"
     ]
    }
   ],
   "source": [
    "#Adding x1_new and x2, we get:\n",
    "\n",
    "print(x1_new+x2)\n",
    "print(np.shape(x1_new+x2))"
   ]
  },
  {
   "cell_type": "code",
   "execution_count": 18,
   "metadata": {},
   "outputs": [
    {
     "name": "stdout",
     "output_type": "stream",
     "text": [
      "(150, 4)\n"
     ]
    }
   ],
   "source": [
    "desired_columns=[\"sepal_length\",\"sepal_width\",\"petal_length\",\"petal_width\"]\n",
    "medoids=[24,74,124]\n",
    "a=np.array(data.loc[:,desired_columns])\n",
    "print(np.shape(a))"
   ]
  },
  {
   "cell_type": "code",
   "execution_count": 19,
   "metadata": {},
   "outputs": [
    {
     "name": "stdout",
     "output_type": "stream",
     "text": [
      "(150, 1, 4)\n"
     ]
    }
   ],
   "source": [
    "a_new=a[:, np.newaxis]\n",
    "print(np.shape(a_new))"
   ]
  },
  {
   "cell_type": "code",
   "execution_count": 20,
   "metadata": {},
   "outputs": [
    {
     "name": "stdout",
     "output_type": "stream",
     "text": [
      "(3, 4)\n"
     ]
    }
   ],
   "source": [
    "b=np.array(data.loc[medoids,desired_columns])\n",
    "print(np.shape(b))"
   ]
  },
  {
   "cell_type": "code",
   "execution_count": 21,
   "metadata": {},
   "outputs": [
    {
     "data": {
      "text/plain": [
       "array([[[ 0.3,  0.1, -0.5,  0. ],\n",
       "        [-1.3,  0.6, -2.9, -1.1],\n",
       "        [-1.6,  0.2, -4.3, -1.9]],\n",
       "\n",
       "       [[ 0.1, -0.4, -0.5,  0. ],\n",
       "        [-1.5,  0.1, -2.9, -1.1],\n",
       "        [-1.8, -0.3, -4.3, -1.9]],\n",
       "\n",
       "       [[-0.1, -0.2, -0.6,  0. ],\n",
       "        [-1.7,  0.3, -3. , -1.1],\n",
       "        [-2. , -0.1, -4.4, -1.9]],\n",
       "\n",
       "       ...,\n",
       "\n",
       "       [[ 1.7, -0.4,  3.3,  1.8],\n",
       "        [ 0.1,  0.1,  0.9,  0.7],\n",
       "        [-0.2, -0.3, -0.5, -0.1]],\n",
       "\n",
       "       [[ 1.4,  0. ,  3.5,  2.1],\n",
       "        [-0.2,  0.5,  1.1,  1. ],\n",
       "        [-0.5,  0.1, -0.3,  0.2]],\n",
       "\n",
       "       [[ 1.1, -0.4,  3.2,  1.6],\n",
       "        [-0.5,  0.1,  0.8,  0.5],\n",
       "        [-0.8, -0.3, -0.6, -0.3]]])"
      ]
     },
     "execution_count": 21,
     "metadata": {},
     "output_type": "execute_result"
    }
   ],
   "source": [
    "a_new-b"
   ]
  }
 ],
 "metadata": {
  "kernelspec": {
   "display_name": "Python 3",
   "language": "python",
   "name": "python3"
  },
  "language_info": {
   "codemirror_mode": {
    "name": "ipython",
    "version": 3
   },
   "file_extension": ".py",
   "mimetype": "text/x-python",
   "name": "python",
   "nbconvert_exporter": "python",
   "pygments_lexer": "ipython3",
   "version": "3.7.3"
  }
 },
 "nbformat": 4,
 "nbformat_minor": 2
}
